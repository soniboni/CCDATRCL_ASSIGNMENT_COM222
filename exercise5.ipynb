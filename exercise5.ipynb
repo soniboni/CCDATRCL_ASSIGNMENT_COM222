{
  "cells": [
    {
      "cell_type": "markdown",
      "metadata": {
        "id": "view-in-github",
        "colab_type": "text"
      },
      "source": [
        "<a href=\"https://colab.research.google.com/github/soniboni/CCDATRCL_ASSIGNMENT_COM222/blob/main/exercise5.ipynb\" target=\"_parent\"><img src=\"https://colab.research.google.com/assets/colab-badge.svg\" alt=\"Open In Colab\"/></a>"
      ]
    },
    {
      "cell_type": "markdown",
      "metadata": {
        "id": "DN15rkKvhGBr"
      },
      "source": [
        "# Exercise 5"
      ]
    },
    {
      "cell_type": "markdown",
      "metadata": {
        "id": "oEys_5t7hGBt"
      },
      "source": [
        "#### 1. Create a dictionary of your 10 favorite songs."
      ]
    },
    {
      "cell_type": "markdown",
      "metadata": {
        "id": "T1iOtzXshGBu"
      },
      "source": [
        "Example:\n",
        "\n",
        "|KEY|VALUE|\n",
        "|---|---|\n",
        "|001|My Love|\n",
        "|002|Like a rose|"
      ]
    },
    {
      "cell_type": "code",
      "execution_count": 13,
      "metadata": {
        "id": "dprOhMRchGBu",
        "outputId": "a04b84af-9bea-439d-ab18-9fab87062967",
        "colab": {
          "base_uri": "https://localhost:8080/"
        }
      },
      "outputs": [
        {
          "output_type": "stream",
          "name": "stdout",
          "text": [
            "{'001': 'Haunted', '002': 'Clean', '003': 'Candy', '004': 'Nonsense', '005': 'Two Ghost', '006': 'Story of us', '007': 'All too well', '008': 'Cherry Wine', '009': 'Aphrodite', '010': 'To the Bone'}\n"
          ]
        }
      ],
      "source": [
        "myPlaylist = {\n",
        "    \"001\": \"Haunted\",\n",
        "    \"002\": \"Clean\",\n",
        "    \"003\": \"Candy\",\n",
        "    \"004\": \"Nonsense\",\n",
        "    \"005\": \"Two Ghost\",\n",
        "    \"006\": \"Story of us\",\n",
        "    \"007\": \"All too well\",\n",
        "    \"008\": \"Cherry Wine\",\n",
        "    \"009\": \"Aphrodite\",\n",
        "    \"010\": \"To the Bone\"\n",
        "}\n",
        "\n",
        "print(myPlaylist)"
      ]
    },
    {
      "cell_type": "markdown",
      "metadata": {
        "id": "g1FstA7XhGBv"
      },
      "source": [
        "#### 2. Loop through the dictionary by its **key** and **value**"
      ]
    },
    {
      "cell_type": "code",
      "execution_count": 14,
      "metadata": {
        "id": "QgyUTiuHhGBv",
        "outputId": "3b9356c6-a6b0-4eae-c609-a83f09a0bd1c",
        "colab": {
          "base_uri": "https://localhost:8080/"
        }
      },
      "outputs": [
        {
          "output_type": "stream",
          "name": "stdout",
          "text": [
            "001 Haunted\n",
            "002 Clean\n",
            "003 Candy\n",
            "004 Nonsense\n",
            "005 Two Ghost\n",
            "006 Story of us\n",
            "007 All too well\n",
            "008 Cherry Wine\n",
            "009 Aphrodite\n",
            "010 To the Bone\n"
          ]
        }
      ],
      "source": [
        "for x, y in myPlaylist.items():\n",
        "  print(x, y)\n"
      ]
    },
    {
      "cell_type": "markdown",
      "metadata": {
        "id": "h5N_w8-yhGBw"
      },
      "source": [
        "#### 3. Add one additional song"
      ]
    },
    {
      "cell_type": "code",
      "execution_count": 15,
      "metadata": {
        "id": "oUXMAJWEhGBw",
        "outputId": "4b14ca6a-dcf9-4b5a-ce39-1f43a56268d7",
        "colab": {
          "base_uri": "https://localhost:8080/"
        }
      },
      "outputs": [
        {
          "output_type": "stream",
          "name": "stdout",
          "text": [
            "001 Haunted\n",
            "002 Clean\n",
            "003 Candy\n",
            "004 Nonsense\n",
            "005 Two Ghost\n",
            "006 Story of us\n",
            "007 All too well\n",
            "008 Cherry Wine\n",
            "009 Aphrodite\n",
            "010 To the Bone\n",
            "011 Motive\n"
          ]
        }
      ],
      "source": [
        "myPlaylist[\"011\"] = \"Motive\"\n",
        "\n",
        "for x, y in myPlaylist.items():\n",
        "    print(x,y)"
      ]
    },
    {
      "cell_type": "markdown",
      "metadata": {
        "id": "7OlW5r9dhGBx"
      },
      "source": [
        "#### 4. Remove one song"
      ]
    },
    {
      "cell_type": "code",
      "execution_count": 16,
      "metadata": {
        "id": "g39mqwpDhGBx",
        "outputId": "8e6b5288-59ea-4a01-8249-1ab3121ef6f8",
        "colab": {
          "base_uri": "https://localhost:8080/"
        }
      },
      "outputs": [
        {
          "output_type": "stream",
          "name": "stdout",
          "text": [
            "002 Clean\n",
            "003 Candy\n",
            "004 Nonsense\n",
            "005 Two Ghost\n",
            "006 Story of us\n",
            "007 All too well\n",
            "008 Cherry Wine\n",
            "009 Aphrodite\n",
            "010 To the Bone\n",
            "011 Motive\n"
          ]
        }
      ],
      "source": [
        "myPlaylist.pop(\"001\")\n",
        "\n",
        "for x,y in myPlaylist.items():\n",
        "    print(x,y)\n"
      ]
    },
    {
      "cell_type": "markdown",
      "metadata": {
        "id": "gZ8Sr1bzhGBy"
      },
      "source": [
        "#### 5. Create a nested dictionary of your 10 favorite songs with 5 genres. Display all of the items of the nested dictionary\n",
        "\n",
        "- Each nested dictionary's key should be the genre of the song\n",
        "- Put each song in their respective genre"
      ]
    },
    {
      "cell_type": "markdown",
      "metadata": {
        "id": "US1ZaaSJhGBy"
      },
      "source": [
        "Example:\n",
        "\n",
        "\n",
        "|KEY|VALUE|\n",
        "|---|---|\n",
        "|Pop|{001, Baby}|\n",
        "|Rock|{001, Enter Sandman}|"
      ]
    },
    {
      "cell_type": "code",
      "execution_count": 17,
      "metadata": {
        "id": "z577KULkhGBz"
      },
      "outputs": [],
      "source": [
        "myNestedDictionary = {\n",
        "    \"Kpop\": {\n",
        "        \"001\" : \"Love Dive\",\n",
        "        \"002\" : \"Left Right\"\n",
        "    },\n",
        "    \"Pop\": {\n",
        "        \"001\" : \"Anti-Hero\",\n",
        "        \"002\" : \"Bejeweled\",\n",
        "    },\n",
        "    \"R&B\" : {\n",
        "        \"001\" : \"Take a Bow\",\n",
        "        \"002\" : \"Say My Name\",\n",
        "    },\n",
        "    \"OPM\" : {\n",
        "        \"001\" : \"Huwag Mo Nang Itanong\",\n",
        "        \"002\" : \"Ang Huling El Bimbo\"\n",
        "    },\n",
        "    \"Rock\" : {\n",
        "        \"001\" : \"Good Old-Fashioned Lover Boy\",\n",
        "        \"002\" : \"Under Pressure\"\n",
        "    }\n",
        "}"
      ]
    },
    {
      "cell_type": "markdown",
      "metadata": {
        "id": "ZMgltzOkhGBz"
      },
      "source": [
        "#### 6. Print the first song of the first genre"
      ]
    },
    {
      "cell_type": "code",
      "execution_count": 18,
      "metadata": {
        "id": "nmXUGoNWhGBz",
        "outputId": "23531da3-9bd6-4c7f-edee-df79c5c8361b",
        "colab": {
          "base_uri": "https://localhost:8080/"
        }
      },
      "outputs": [
        {
          "output_type": "stream",
          "name": "stdout",
          "text": [
            "Love Dive\n"
          ]
        }
      ],
      "source": [
        "print(myNestedDictionary[\"Kpop\"][\"001\"])"
      ]
    },
    {
      "cell_type": "markdown",
      "metadata": {
        "id": "dEcgwp_ihGB0"
      },
      "source": [
        "#### 7. Print the first song of the last genre"
      ]
    },
    {
      "cell_type": "code",
      "execution_count": 19,
      "metadata": {
        "id": "ITbuWq2UhGB0",
        "outputId": "b35048a6-cfc2-4062-efd8-9bf7bf97cdf0",
        "colab": {
          "base_uri": "https://localhost:8080/"
        }
      },
      "outputs": [
        {
          "output_type": "stream",
          "name": "stdout",
          "text": [
            "Good Old-Fashioned Lover Boy\n"
          ]
        }
      ],
      "source": [
        "print(myNestedDictionary[\"Rock\"][\"001\"])"
      ]
    }
  ],
  "metadata": {
    "colab": {
      "provenance": [],
      "include_colab_link": true
    },
    "kernelspec": {
      "display_name": "Python 3",
      "language": "python",
      "name": "python3"
    },
    "language_info": {
      "codemirror_mode": {
        "name": "ipython",
        "version": 3
      },
      "file_extension": ".py",
      "mimetype": "text/x-python",
      "name": "python",
      "nbconvert_exporter": "python",
      "pygments_lexer": "ipython3",
      "version": "3.9.13"
    },
    "orig_nbformat": 4
  },
  "nbformat": 4,
  "nbformat_minor": 0
}