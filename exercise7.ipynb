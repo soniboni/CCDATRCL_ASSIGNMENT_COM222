{
  "cells": [
    {
      "cell_type": "markdown",
      "metadata": {
        "id": "view-in-github",
        "colab_type": "text"
      },
      "source": [
        "<a href=\"https://colab.research.google.com/github/soniboni/CCDATRCL_ASSIGNMENT_COM222/blob/main/exercise7.ipynb\" target=\"_parent\"><img src=\"https://colab.research.google.com/assets/colab-badge.svg\" alt=\"Open In Colab\"/></a>"
      ]
    },
    {
      "cell_type": "markdown",
      "metadata": {
        "id": "e3Ja3uozAJlw"
      },
      "source": [
        "# Exercise 7"
      ]
    },
    {
      "cell_type": "code",
      "execution_count": 1,
      "metadata": {
        "id": "IW6uTwU8AJly"
      },
      "outputs": [],
      "source": [
        "class Node:\n",
        "    def __init__(self, item):\n",
        "        self.left = None\n",
        "        self.right = None\n",
        "        self.val = item"
      ]
    },
    {
      "cell_type": "code",
      "execution_count": 2,
      "metadata": {
        "id": "uxVFuimIAJlz"
      },
      "outputs": [],
      "source": [
        "def evaluateExpressionTree(root):\n",
        "\n",
        "    # empty tree\n",
        "    if root is None:\n",
        "        return 0\n",
        "\n",
        "    # leaf node\n",
        "    if root.left is None and root.right is None:\n",
        "        return int(root.val)\n",
        "\n",
        "    # evaluate left tree\n",
        "    left_sum = evaluateExpressionTree(root.left)\n",
        "\n",
        "    # evaluate right tree\n",
        "    right_sum = evaluateExpressionTree(root.right)\n",
        "\n",
        "    # check which operation to apply\n",
        "    if root.val == '+':\n",
        "        return left_sum + right_sum\n",
        "\n",
        "    elif root.val == '-':\n",
        "        return left_sum - right_sum\n",
        "\n",
        "    elif root.val == '*':\n",
        "        return left_sum * right_sum\n",
        "\n",
        "    else:\n",
        "        return left_sum / right_sum"
      ]
    },
    {
      "cell_type": "code",
      "execution_count": 3,
      "metadata": {
        "id": "-xWZXA-mAJl0"
      },
      "outputs": [],
      "source": [
        "def inorder(root):\n",
        "\n",
        "    if root:\n",
        "        # Traverse left\n",
        "        inorder(root.left)\n",
        "        # Traverse root\n",
        "        print(str(root.val) + \"->\", end='')\n",
        "        # Traverse right\n",
        "        inorder(root.right)"
      ]
    },
    {
      "cell_type": "markdown",
      "metadata": {
        "id": "CVtqxh5DAJl1"
      },
      "source": [
        "#### 1. Construct a binary expression tree\n",
        "\n",
        "$ (8 + 4) * (7 - 9) $"
      ]
    },
    {
      "cell_type": "code",
      "execution_count": 5,
      "metadata": {
        "id": "CxpP0zcVAJl1",
        "colab": {
          "base_uri": "https://localhost:8080/"
        },
        "outputId": "cf766b61-77bd-44a8-e0f3-e126ac090352"
      },
      "outputs": [
        {
          "output_type": "execute_result",
          "data": {
            "text/plain": [
              "-24"
            ]
          },
          "metadata": {},
          "execution_count": 5
        }
      ],
      "source": [
        "root = Node(\"*\")\n",
        "node1 = Node(\"+\")\n",
        "node2 = Node(\"-\")\n",
        "node3 = Node(\"8\")\n",
        "node4 = Node(\"4\")\n",
        "node5 = Node(\"7\")\n",
        "node6 = Node(\"9\")\n",
        "\n",
        "root.left = node1\n",
        "root.right = node2\n",
        "\n",
        "root.left.left = node3\n",
        "root.left.right = node4\n",
        "\n",
        "root.right.left = node5\n",
        "root.right.right = node6\n",
        "\n",
        "evaluateExpressionTree(root)\n"
      ]
    },
    {
      "cell_type": "code",
      "source": [
        "inorder(root)"
      ],
      "metadata": {
        "id": "3ec9TiKxLp10",
        "outputId": "cfa198c4-fc2b-4751-812d-92b06111f745",
        "colab": {
          "base_uri": "https://localhost:8080/"
        }
      },
      "execution_count": 6,
      "outputs": [
        {
          "output_type": "stream",
          "name": "stdout",
          "text": [
            "8->+->4->*->7->-->9->"
          ]
        }
      ]
    },
    {
      "cell_type": "markdown",
      "metadata": {
        "id": "jc5KHLk6AJl2"
      },
      "source": [
        "#### 2. Construct a binary expression tree\n",
        "\n",
        "$ 5 / 8 + 3 - 6 * 1 $"
      ]
    },
    {
      "cell_type": "code",
      "execution_count": 7,
      "metadata": {
        "id": "XORzqkC3AJl2",
        "colab": {
          "base_uri": "https://localhost:8080/"
        },
        "outputId": "e2a8064c-3b80-4566-b57f-0ba28b7e5820"
      },
      "outputs": [
        {
          "output_type": "execute_result",
          "data": {
            "text/plain": [
              "-2.375"
            ]
          },
          "metadata": {},
          "execution_count": 7
        }
      ],
      "source": [
        "root = Node(\"+\")\n",
        "node1 = Node(\"/\")\n",
        "node2 = Node(\"-\")\n",
        "node3 = Node(\"5\")\n",
        "node4 = Node(\"8\")\n",
        "node5 = Node(\"3\")\n",
        "node6 = Node(\"*\")\n",
        "node7 = Node(\"6\")\n",
        "node8 = Node(\"1\")\n",
        "\n",
        "\n",
        "root.left = node1\n",
        "root.right = node2\n",
        "\n",
        "root.left.left = node3\n",
        "root.left.right = node4\n",
        "\n",
        "root.right.left = node5\n",
        "root.right.right = node6\n",
        "\n",
        "root.right.right.left = node7\n",
        "root.right.right.right = node8\n",
        "\n",
        "evaluateExpressionTree(root)"
      ]
    },
    {
      "cell_type": "code",
      "source": [
        "inorder(root)"
      ],
      "metadata": {
        "colab": {
          "base_uri": "https://localhost:8080/"
        },
        "id": "DJwmPlrLLeh4",
        "outputId": "fb4ac5a8-2b85-448a-bd70-0fefde74add3"
      },
      "execution_count": 8,
      "outputs": [
        {
          "output_type": "stream",
          "name": "stdout",
          "text": [
            "5->/->8->+->3->-->6->*->1->"
          ]
        }
      ]
    },
    {
      "cell_type": "markdown",
      "metadata": {
        "id": "tu3n5ZdWAJl2"
      },
      "source": [
        "#### 3. Construct a binary expression tree\n",
        "\n",
        "$ ((2 + 5) / 3)- (3 + 8) $"
      ]
    },
    {
      "cell_type": "code",
      "execution_count": 9,
      "metadata": {
        "id": "5GvZBxgtAJl3",
        "colab": {
          "base_uri": "https://localhost:8080/"
        },
        "outputId": "3117e24c-f0a3-4be6-f815-25ed8c544dd6"
      },
      "outputs": [
        {
          "output_type": "execute_result",
          "data": {
            "text/plain": [
              "-8.666666666666666"
            ]
          },
          "metadata": {},
          "execution_count": 9
        }
      ],
      "source": [
        "root = Node(\"-\")\n",
        "node1 = Node(\"/\")\n",
        "node2 = Node(\"+\")\n",
        "node3 = Node(\"+\")\n",
        "node4 = Node(\"3\")\n",
        "node5 = Node(\"3\")\n",
        "node6 = Node(\"8\")\n",
        "node7 = Node(\"2\")\n",
        "node8 = Node(\"5\")\n",
        "\n",
        "\n",
        "root.left = node1\n",
        "root.right = node2\n",
        "\n",
        "root.left.left = node3\n",
        "root.left.right = node4\n",
        "\n",
        "root.left.left.left = node7\n",
        "root.left.left.right = node8\n",
        "\n",
        "root.right.left = node5\n",
        "root.right.right = node6\n",
        "\n",
        "\n",
        "evaluateExpressionTree(root)"
      ]
    },
    {
      "cell_type": "code",
      "source": [
        "inorder(root)"
      ],
      "metadata": {
        "colab": {
          "base_uri": "https://localhost:8080/"
        },
        "id": "f4AiWRYZMU22",
        "outputId": "7b2e34f4-76f7-4a7c-d4fc-d0a012da0079"
      },
      "execution_count": 10,
      "outputs": [
        {
          "output_type": "stream",
          "name": "stdout",
          "text": [
            "2->+->5->/->3->-->3->+->8->"
          ]
        }
      ]
    }
  ],
  "metadata": {
    "kernelspec": {
      "display_name": "Python 3",
      "language": "python",
      "name": "python3"
    },
    "language_info": {
      "codemirror_mode": {
        "name": "ipython",
        "version": 3
      },
      "file_extension": ".py",
      "mimetype": "text/x-python",
      "name": "python",
      "nbconvert_exporter": "python",
      "pygments_lexer": "ipython3",
      "version": "3.11.4"
    },
    "orig_nbformat": 4,
    "colab": {
      "provenance": [],
      "include_colab_link": true
    }
  },
  "nbformat": 4,
  "nbformat_minor": 0
}