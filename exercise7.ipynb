{
  "cells": [
    {
      "cell_type": "markdown",
      "metadata": {
        "id": "view-in-github",
        "colab_type": "text"
      },
      "source": [
        "<a href=\"https://colab.research.google.com/github/soniboni/CCDATRCL_ASSIGNMENT_COM222/blob/main/exercise7.ipynb\" target=\"_parent\"><img src=\"https://colab.research.google.com/assets/colab-badge.svg\" alt=\"Open In Colab\"/></a>"
      ]
    },
    {
      "cell_type": "markdown",
      "metadata": {
        "id": "e3Ja3uozAJlw"
      },
      "source": [
        "# Exercise 7"
      ]
    },
    {
      "cell_type": "code",
      "execution_count": null,
      "metadata": {
        "id": "IW6uTwU8AJly"
      },
      "outputs": [],
      "source": [
        "class Node:\n",
        "    def __init__(self, item):\n",
        "        self.left = None\n",
        "        self.right = None\n",
        "        self.val = item"
      ]
    },
    {
      "cell_type": "code",
      "execution_count": null,
      "metadata": {
        "id": "uxVFuimIAJlz"
      },
      "outputs": [],
      "source": [
        "def evaluateExpressionTree(root):\n",
        "\n",
        "    # empty tree\n",
        "    if root is None:\n",
        "        return 0\n",
        "\n",
        "    # leaf node\n",
        "    if root.left is None and root.right is None:\n",
        "        return int(root.val)\n",
        "\n",
        "    # evaluate left tree\n",
        "    left_sum = evaluateExpressionTree(root.left)\n",
        "\n",
        "    # evaluate right tree\n",
        "    right_sum = evaluateExpressionTree(root.right)\n",
        "\n",
        "    # check which operation to apply\n",
        "    if root.val == '+':\n",
        "        return left_sum + right_sum\n",
        "\n",
        "    elif root.val == '-':\n",
        "        return left_sum - right_sum\n",
        "\n",
        "    elif root.val == '*':\n",
        "        return left_sum * right_sum\n",
        "\n",
        "    else:\n",
        "        return left_sum // right_sum"
      ]
    },
    {
      "cell_type": "code",
      "execution_count": null,
      "metadata": {
        "id": "-xWZXA-mAJl0"
      },
      "outputs": [],
      "source": [
        "def inorder(root):\n",
        "\n",
        "    if root:\n",
        "        # Traverse left\n",
        "        inorder(root.left)\n",
        "        # Traverse root\n",
        "        print(str(root.val) + \"->\", end='')\n",
        "        # Traverse right\n",
        "        inorder(root.right)"
      ]
    },
    {
      "cell_type": "markdown",
      "metadata": {
        "id": "CVtqxh5DAJl1"
      },
      "source": [
        "#### 1. Construct a binary expression tree\n",
        "\n",
        "$ (8 + 4) * (7 - 9) $"
      ]
    },
    {
      "cell_type": "code",
      "execution_count": null,
      "metadata": {
        "id": "CxpP0zcVAJl1",
        "colab": {
          "base_uri": "https://localhost:8080/"
        },
        "outputId": "6775f27c-f390-406f-ab05-ca70b97f4592"
      },
      "outputs": [
        {
          "output_type": "execute_result",
          "data": {
            "text/plain": [
              "-24"
            ]
          },
          "metadata": {},
          "execution_count": 9
        }
      ],
      "source": [
        "root = Node(\"*\")\n",
        "node1 = Node(\"+\")\n",
        "node2 = Node(\"-\")\n",
        "node3 = Node(\"8\")\n",
        "node4 = Node(\"4\")\n",
        "node5 = Node(\"7\")\n",
        "node6 = Node(\"9\")\n",
        "\n",
        "root.left = node1\n",
        "root.right = node2\n",
        "\n",
        "root.left.left = node3\n",
        "root.left.right = node4\n",
        "\n",
        "root.right.left = node5\n",
        "root.right.right = node6\n",
        "\n",
        "evaluateExpressionTree(root)\n"
      ]
    },
    {
      "cell_type": "code",
      "source": [
        "inorder(root)"
      ],
      "metadata": {
        "id": "3ec9TiKxLp10",
        "outputId": "9db57e65-9a35-496b-9e62-58938adc242a",
        "colab": {
          "base_uri": "https://localhost:8080/"
        }
      },
      "execution_count": null,
      "outputs": [
        {
          "output_type": "stream",
          "name": "stdout",
          "text": [
            "8->+->4->*->7->-->9->"
          ]
        }
      ]
    },
    {
      "cell_type": "markdown",
      "metadata": {
        "id": "jc5KHLk6AJl2"
      },
      "source": [
        "#### 2. Construct a binary expression tree\n",
        "\n",
        "$ 5 / 8 + 3 - 6 * 1 $"
      ]
    },
    {
      "cell_type": "code",
      "execution_count": null,
      "metadata": {
        "id": "XORzqkC3AJl2",
        "colab": {
          "base_uri": "https://localhost:8080/"
        },
        "outputId": "56d77232-6945-424a-ea74-39e7aabe28e0"
      },
      "outputs": [
        {
          "output_type": "execute_result",
          "data": {
            "text/plain": [
              "-3"
            ]
          },
          "metadata": {},
          "execution_count": 7
        }
      ],
      "source": [
        "root = Node(\"+\")\n",
        "node1 = Node(\"/\")\n",
        "node2 = Node(\"-\")\n",
        "node3 = Node(\"5\")\n",
        "node4 = Node(\"8\")\n",
        "node5 = Node(\"3\")\n",
        "node6 = Node(\"*\")\n",
        "node7 = Node(\"6\")\n",
        "node8 = Node(\"1\")\n",
        "\n",
        "\n",
        "root.left = node1\n",
        "root.right = node2\n",
        "\n",
        "root.left.left = node3\n",
        "root.left.right = node4\n",
        "\n",
        "root.right.left = node5\n",
        "root.right.right = node6\n",
        "\n",
        "root.right.right.left = node7\n",
        "root.right.right.right = node8\n",
        "\n",
        "evaluateExpressionTree(root)"
      ]
    },
    {
      "cell_type": "code",
      "source": [
        "inorder(root)"
      ],
      "metadata": {
        "colab": {
          "base_uri": "https://localhost:8080/"
        },
        "id": "DJwmPlrLLeh4",
        "outputId": "973b51f9-5485-41c6-d14d-bac60f773cee"
      },
      "execution_count": null,
      "outputs": [
        {
          "output_type": "stream",
          "name": "stdout",
          "text": [
            "5->/->8->+->3->-->6->*->1->"
          ]
        }
      ]
    },
    {
      "cell_type": "markdown",
      "metadata": {
        "id": "tu3n5ZdWAJl2"
      },
      "source": [
        "#### 3. Construct a binary expression tree\n",
        "\n",
        "$ ((2 + 5) / 3)- (3 + 8) $"
      ]
    },
    {
      "cell_type": "code",
      "execution_count": null,
      "metadata": {
        "id": "5GvZBxgtAJl3",
        "colab": {
          "base_uri": "https://localhost:8080/"
        },
        "outputId": "45c527dc-af71-44da-8226-1380a99c5abf"
      },
      "outputs": [
        {
          "output_type": "execute_result",
          "data": {
            "text/plain": [
              "-9"
            ]
          },
          "metadata": {},
          "execution_count": 11
        }
      ],
      "source": [
        "root = Node(\"-\")\n",
        "node1 = Node(\"/\")\n",
        "node2 = Node(\"+\")\n",
        "node3 = Node(\"+\")\n",
        "node4 = Node(\"3\")\n",
        "node5 = Node(\"3\")\n",
        "node6 = Node(\"8\")\n",
        "node7 = Node(\"2\")\n",
        "node8 = Node(\"5\")\n",
        "\n",
        "\n",
        "root.left = node1\n",
        "root.right = node2\n",
        "\n",
        "root.left.left = node3\n",
        "root.left.right = node4\n",
        "\n",
        "root.left.left.left = node7\n",
        "root.left.left.right = node8\n",
        "\n",
        "root.right.left = node5\n",
        "root.right.right = node6\n",
        "\n",
        "\n",
        "evaluateExpressionTree(root)"
      ]
    },
    {
      "cell_type": "code",
      "source": [
        "inorder(root)"
      ],
      "metadata": {
        "colab": {
          "base_uri": "https://localhost:8080/"
        },
        "id": "f4AiWRYZMU22",
        "outputId": "c93f0b5c-5fd3-4c38-801f-359da9b1c826"
      },
      "execution_count": null,
      "outputs": [
        {
          "output_type": "stream",
          "name": "stdout",
          "text": [
            "2->+->5->/->3->-->3->+->8->"
          ]
        }
      ]
    }
  ],
  "metadata": {
    "kernelspec": {
      "display_name": "Python 3",
      "language": "python",
      "name": "python3"
    },
    "language_info": {
      "codemirror_mode": {
        "name": "ipython",
        "version": 3
      },
      "file_extension": ".py",
      "mimetype": "text/x-python",
      "name": "python",
      "nbconvert_exporter": "python",
      "pygments_lexer": "ipython3",
      "version": "3.11.4"
    },
    "orig_nbformat": 4,
    "colab": {
      "provenance": [],
      "include_colab_link": true
    }
  },
  "nbformat": 4,
  "nbformat_minor": 0
}